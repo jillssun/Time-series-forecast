{
 "cells": [
  {
   "cell_type": "code",
   "execution_count": 1,
   "metadata": {},
   "outputs": [],
   "source": [
    "import numpy as np\n",
    "import pandas as pd\n",
    "from arch import arch_model\n",
    "import math\n",
    "from datetime import datetime as dt\n",
    "from matplotlib import pyplot\n",
    "import statsmodels.formula.api as sm\n",
    "import statsmodels.api as sm\n",
    "import matplotlib.pyplot as plt"
   ]
  },
  {
   "cell_type": "code",
   "execution_count": 2,
   "metadata": {},
   "outputs": [
    {
     "data": {
      "text/html": [
       "<div>\n",
       "<style scoped>\n",
       "    .dataframe tbody tr th:only-of-type {\n",
       "        vertical-align: middle;\n",
       "    }\n",
       "\n",
       "    .dataframe tbody tr th {\n",
       "        vertical-align: top;\n",
       "    }\n",
       "\n",
       "    .dataframe thead th {\n",
       "        text-align: right;\n",
       "    }\n",
       "</style>\n",
       "<table border=\"1\" class=\"dataframe\">\n",
       "  <thead>\n",
       "    <tr style=\"text-align: right;\">\n",
       "      <th></th>\n",
       "      <th>Symbol</th>\n",
       "      <th>R</th>\n",
       "      <th>RV</th>\n",
       "    </tr>\n",
       "    <tr>\n",
       "      <th>Date</th>\n",
       "      <th></th>\n",
       "      <th></th>\n",
       "      <th></th>\n",
       "    </tr>\n",
       "  </thead>\n",
       "  <tbody>\n",
       "    <tr>\n",
       "      <th>2018-02-05</th>\n",
       "      <td>.STOXX50E</td>\n",
       "      <td>-1.084834</td>\n",
       "      <td>1.284597</td>\n",
       "    </tr>\n",
       "    <tr>\n",
       "      <th>2018-02-06</th>\n",
       "      <td>.STOXX50E</td>\n",
       "      <td>-0.655623</td>\n",
       "      <td>5.328114</td>\n",
       "    </tr>\n",
       "    <tr>\n",
       "      <th>2018-02-07</th>\n",
       "      <td>.STOXX50E</td>\n",
       "      <td>1.394533</td>\n",
       "      <td>0.955107</td>\n",
       "    </tr>\n",
       "    <tr>\n",
       "      <th>2018-02-08</th>\n",
       "      <td>.STOXX50E</td>\n",
       "      <td>-2.126916</td>\n",
       "      <td>0.954347</td>\n",
       "    </tr>\n",
       "    <tr>\n",
       "      <th>2018-02-09</th>\n",
       "      <td>.STOXX50E</td>\n",
       "      <td>-1.768411</td>\n",
       "      <td>2.318103</td>\n",
       "    </tr>\n",
       "  </tbody>\n",
       "</table>\n",
       "</div>"
      ],
      "text/plain": [
       "               Symbol         R        RV\n",
       "Date                                     \n",
       "2018-02-05  .STOXX50E -1.084834  1.284597\n",
       "2018-02-06  .STOXX50E -0.655623  5.328114\n",
       "2018-02-07  .STOXX50E  1.394533  0.955107\n",
       "2018-02-08  .STOXX50E -2.126916  0.954347\n",
       "2018-02-09  .STOXX50E -1.768411  2.318103"
      ]
     },
     "execution_count": 2,
     "metadata": {},
     "output_type": "execute_result"
    }
   ],
   "source": [
    "#import data file\n",
    "data=pd.read_excel('Downloads\\RV.xlsx')\n",
    "data['Date']=pd.to_datetime(data.Date)\n",
    "data.set_index('Date',inplace=True)\n",
    "data.tail()"
   ]
  },
  {
   "cell_type": "code",
   "execution_count": 3,
   "metadata": {},
   "outputs": [],
   "source": [
    "#Select the first index AEX. Sub-period January 2000 – December 2012\n",
    "AEX=data.loc[data['Symbol']=='.AEX']"
   ]
  },
  {
   "cell_type": "code",
   "execution_count": 4,
   "metadata": {},
   "outputs": [
    {
     "data": {
      "text/html": [
       "<div>\n",
       "<style scoped>\n",
       "    .dataframe tbody tr th:only-of-type {\n",
       "        vertical-align: middle;\n",
       "    }\n",
       "\n",
       "    .dataframe tbody tr th {\n",
       "        vertical-align: top;\n",
       "    }\n",
       "\n",
       "    .dataframe thead th {\n",
       "        text-align: right;\n",
       "    }\n",
       "</style>\n",
       "<table border=\"1\" class=\"dataframe\">\n",
       "  <thead>\n",
       "    <tr style=\"text-align: right;\">\n",
       "      <th></th>\n",
       "      <th>Symbol</th>\n",
       "      <th>R</th>\n",
       "      <th>RV</th>\n",
       "    </tr>\n",
       "    <tr>\n",
       "      <th>Date</th>\n",
       "      <th></th>\n",
       "      <th></th>\n",
       "      <th></th>\n",
       "    </tr>\n",
       "  </thead>\n",
       "  <tbody>\n",
       "    <tr>\n",
       "      <th>2000-01-03</th>\n",
       "      <td>.AEX</td>\n",
       "      <td>-0.034046</td>\n",
       "      <td>1.301702</td>\n",
       "    </tr>\n",
       "    <tr>\n",
       "      <th>2000-01-04</th>\n",
       "      <td>.AEX</td>\n",
       "      <td>-3.360567</td>\n",
       "      <td>2.013057</td>\n",
       "    </tr>\n",
       "    <tr>\n",
       "      <th>2000-01-05</th>\n",
       "      <td>.AEX</td>\n",
       "      <td>-0.167499</td>\n",
       "      <td>4.909661</td>\n",
       "    </tr>\n",
       "    <tr>\n",
       "      <th>2000-01-06</th>\n",
       "      <td>.AEX</td>\n",
       "      <td>-1.313013</td>\n",
       "      <td>2.251396</td>\n",
       "    </tr>\n",
       "    <tr>\n",
       "      <th>2000-01-07</th>\n",
       "      <td>.AEX</td>\n",
       "      <td>2.501328</td>\n",
       "      <td>1.384146</td>\n",
       "    </tr>\n",
       "  </tbody>\n",
       "</table>\n",
       "</div>"
      ],
      "text/plain": [
       "           Symbol         R        RV\n",
       "Date                                 \n",
       "2000-01-03   .AEX -0.034046  1.301702\n",
       "2000-01-04   .AEX -3.360567  2.013057\n",
       "2000-01-05   .AEX -0.167499  4.909661\n",
       "2000-01-06   .AEX -1.313013  2.251396\n",
       "2000-01-07   .AEX  2.501328  1.384146"
      ]
     },
     "execution_count": 4,
     "metadata": {},
     "output_type": "execute_result"
    }
   ],
   "source": [
    "data1=AEX[AEX.index<\"2013-01-01\"]\n",
    "data2=AEX[AEX.index>=\"2013-01-01\"]\n",
    "data1.head()"
   ]
  },
  {
   "cell_type": "code",
   "execution_count": 5,
   "metadata": {},
   "outputs": [
    {
     "name": "stdout",
     "output_type": "stream",
     "text": [
      "Iteration:      1,   Func. Count:      7,   Neg. LLF: 4648.878389354795\n",
      "Iteration:      2,   Func. Count:     18,   Neg. LLF: 4648.763840222367\n",
      "Iteration:      3,   Func. Count:     28,   Neg. LLF: 4648.215442301514\n",
      "Iteration:      4,   Func. Count:     36,   Neg. LLF: 4644.894302057531\n",
      "Iteration:      5,   Func. Count:     44,   Neg. LLF: 4640.709497057852\n",
      "Iteration:      6,   Func. Count:     52,   Neg. LLF: 4638.839210075199\n",
      "Iteration:      7,   Func. Count:     60,   Neg. LLF: 4636.015602657494\n",
      "Iteration:      8,   Func. Count:     67,   Neg. LLF: 4635.259598063447\n",
      "Iteration:      9,   Func. Count:     74,   Neg. LLF: 4634.223458121536\n",
      "Iteration:     10,   Func. Count:     82,   Neg. LLF: 4633.8307165924925\n",
      "Iteration:     11,   Func. Count:     89,   Neg. LLF: 4633.5138725868765\n",
      "Iteration:     12,   Func. Count:     96,   Neg. LLF: 4633.506390859911\n",
      "Iteration:     13,   Func. Count:    103,   Neg. LLF: 4633.506023684082\n",
      "Iteration:     14,   Func. Count:    110,   Neg. LLF: 4633.506021055065\n",
      "Optimization terminated successfully.    (Exit mode 0)\n",
      "            Current function value: 4633.50602105353\n",
      "            Iterations: 14\n",
      "            Function evaluations: 110\n",
      "            Gradient evaluations: 14\n",
      "                   Constant Mean - GJR-GARCH Model Results                    \n",
      "==============================================================================\n",
      "Dep. Variable:                      R   R-squared:                      -0.000\n",
      "Mean Model:             Constant Mean   Adj. R-squared:                 -0.000\n",
      "Vol Model:                  GJR-GARCH   Log-Likelihood:               -4633.51\n",
      "Distribution:                  Normal   AIC:                           9277.01\n",
      "Method:            Maximum Likelihood   BIC:                           9307.54\n",
      "                                        No. Observations:                 3313\n",
      "Date:                Sun, Mar 15 2020   Df Residuals:                     3308\n",
      "Time:                        22:21:25   Df Model:                            5\n",
      "                                  Mean Model                                  \n",
      "==============================================================================\n",
      "                 coef    std err          t      P>|t|        95.0% Conf. Int.\n",
      "------------------------------------------------------------------------------\n",
      "mu            -0.0311  1.422e-02     -2.187  2.871e-02 [-5.897e-02,-3.234e-03]\n",
      "                               Volatility Model                              \n",
      "=============================================================================\n",
      "                 coef    std err          t      P>|t|       95.0% Conf. Int.\n",
      "-----------------------------------------------------------------------------\n",
      "omega          0.0133  3.796e-03      3.506  4.544e-04  [5.869e-03,2.075e-02]\n",
      "alpha[1]   1.5073e-10  1.202e-02  1.254e-08      1.000 [-2.356e-02,2.356e-02]\n",
      "gamma[1]       0.1464  2.387e-02      6.131  8.725e-10    [9.958e-02,  0.193]\n",
      "beta[1]        0.9148  1.849e-02     49.481      0.000      [  0.879,  0.951]\n",
      "=============================================================================\n",
      "\n",
      "Covariance estimator: robust\n"
     ]
    },
    {
     "data": {
      "text/plain": [
       "<matplotlib.axes._subplots.AxesSubplot at 0x25e18b6a390>"
      ]
     },
     "execution_count": 5,
     "metadata": {},
     "output_type": "execute_result"
    },
    {
     "data": {
      "image/png": "[encoded data removed]",
      "text/plain": [
       "<Figure size 432x288 with 1 Axes>"
      ]
     },
     "metadata": {
      "needs_background": "light"
     },
     "output_type": "display_data"
    }
   ],
   "source": [
    "#Testing Garch \n",
    "R=data1['R']\n",
    "am=arch_model(R,p=1,o=1,q=1)\n",
    "res=am.fit()\n",
    "print(res.summary())\n",
    "sigma=res.conditional_volatility\n",
    "sigma.plot()"
   ]
  },
  {
   "cell_type": "code",
   "execution_count": 6,
   "metadata": {},
   "outputs": [],
   "source": [
    "#Garch vs EWMA Forecasting \n",
    "\n",
    "#Garch parameters\n",
    "omega=res.params['omega']\n",
    "alpha=res.params['alpha[1]']\n",
    "beta=res.params['beta[1]']\n",
    "gamma=res.params['gamma[1]']"
   ]
  },
  {
   "cell_type": "code",
   "execution_count": 8,
   "metadata": {},
   "outputs": [
    {
     "name": "stderr",
     "output_type": "stream",
     "text": [
      "C:\\Users\\sunju\\Anaconda3\\lib\\site-packages\\ipykernel_launcher.py:2: SettingWithCopyWarning: \n",
      "A value is trying to be set on a copy of a slice from a DataFrame.\n",
      "Try using .loc[row_indexer,col_indexer] = value instead\n",
      "\n",
      "See the caveats in the documentation: http://pandas.pydata.org/pandas-docs/stable/indexing.html#indexing-view-versus-copy\n",
      "  \n"
     ]
    }
   ],
   "source": [
    "#Creat forecasting time frame\n",
    "data2['sig']=np.nan\n",
    "df=data2.copy()\n",
    "df=df.drop(['Symbol','R','RV'],axis=1)"
   ]
  },
  {
   "cell_type": "code",
   "execution_count": 33,
   "metadata": {},
   "outputs": [
    {
     "name": "stdout",
     "output_type": "stream",
     "text": [
      "Date\n",
      "2000-01-03    1.293063\n",
      "2000-01-04    1.242102\n",
      "2000-01-05    1.745607\n",
      "2000-01-06    1.674356\n",
      "2000-01-07    1.678797\n",
      "2000-01-10    1.609801\n",
      "2000-01-11    1.543988\n",
      "2000-01-12    1.553024\n",
      "2000-01-13    1.514095\n",
      "2000-01-14    1.452723\n",
      "2000-01-17    1.394217\n",
      "2000-01-18    1.338461\n",
      "2000-01-19    1.531234\n",
      "2000-01-20    1.471191\n",
      "2000-01-21    1.411822\n",
      "2000-01-24    1.357586\n",
      "2000-01-25    1.303559\n",
      "2000-01-26    1.253698\n",
      "2000-01-27    1.243636\n",
      "2000-01-28    1.207620\n",
      "2000-01-31    1.175757\n",
      "2000-02-01    1.315867\n",
      "2000-02-02    1.264616\n",
      "2000-02-03    1.215014\n",
      "2000-02-04    1.167795\n",
      "2000-02-07    1.122864\n",
      "2000-02-08    1.164088\n",
      "2000-02-09    1.119337\n",
      "2000-02-10    1.078068\n",
      "2000-02-11    1.040980\n",
      "                ...   \n",
      "2017-12-29         NaN\n",
      "2018-01-02         NaN\n",
      "2018-01-03         NaN\n",
      "2018-01-04         NaN\n",
      "2018-01-05         NaN\n",
      "2018-01-08         NaN\n",
      "2018-01-09         NaN\n",
      "2018-01-10         NaN\n",
      "2018-01-11         NaN\n",
      "2018-01-12         NaN\n",
      "2018-01-15         NaN\n",
      "2018-01-16         NaN\n",
      "2018-01-17         NaN\n",
      "2018-01-18         NaN\n",
      "2018-01-19         NaN\n",
      "2018-01-22         NaN\n",
      "2018-01-23         NaN\n",
      "2018-01-24         NaN\n",
      "2018-01-25         NaN\n",
      "2018-01-26         NaN\n",
      "2018-01-29         NaN\n",
      "2018-01-30         NaN\n",
      "2018-01-31         NaN\n",
      "2018-02-01         NaN\n",
      "2018-02-02         NaN\n",
      "2018-02-05         NaN\n",
      "2018-02-06         NaN\n",
      "2018-02-07         NaN\n",
      "2018-02-08         NaN\n",
      "2018-02-09         NaN\n",
      "Length: 4620, dtype: float64\n"
     ]
    },
    {
     "name": "stderr",
     "output_type": "stream",
     "text": [
      "C:\\Users\\sunju\\Anaconda3\\lib\\site-packages\\ipykernel_launcher.py:8: SettingWithCopyWarning: \n",
      "A value is trying to be set on a copy of a slice from a DataFrame.\n",
      "Try using .loc[row_indexer,col_indexer] = value instead\n",
      "\n",
      "See the caveats in the documentation: http://pandas.pydata.org/pandas-docs/stable/indexing.html#indexing-view-versus-copy\n",
      "  \n"
     ]
    }
   ],
   "source": [
    "#make a full period of dataframe[sigma]\n",
    "data2['sig']=np.nan\n",
    "df=data2.copy()\n",
    "df=df.drop(['Symbol','R','RV'],axis=1)\n",
    "sig=sigma.append(df.sig)\n",
    "data2=data2.drop(['sig'],axis=1)\n",
    "\n",
    "AEX['I']=0\n",
    "print(sig)"
   ]
  },
  {
   "cell_type": "code",
   "execution_count": 35,
   "metadata": {},
   "outputs": [
    {
     "name": "stderr",
     "output_type": "stream",
     "text": [
      "C:\\Users\\sunju\\Anaconda3\\lib\\site-packages\\pandas\\core\\indexing.py:543: SettingWithCopyWarning: \n",
      "A value is trying to be set on a copy of a slice from a DataFrame.\n",
      "Try using .loc[row_indexer,col_indexer] = value instead\n",
      "\n",
      "See the caveats in the documentation: http://pandas.pydata.org/pandas-docs/stable/indexing.html#indexing-view-versus-copy\n",
      "  self.obj[item] = s\n"
     ]
    },
    {
     "data": {
      "text/plain": [
       "<matplotlib.axes._subplots.AxesSubplot at 0x15afae6ca20>"
      ]
     },
     "execution_count": 35,
     "metadata": {},
     "output_type": "execute_result"
    },
    {
     "data": {
      "image/png": "[encoded data removed]",
      "text/plain": [
       "<Figure size 432x288 with 1 Axes>"
      ]
     },
     "metadata": {
      "needs_background": "light"
     },
     "output_type": "display_data"
    }
   ],
   "source": [
    "##garch equation\n",
    "for i in range(len(data1),len(sig)):\n",
    "    if AEX['R'][i]<0:\n",
    "        AEX.loc[AEX.index[i],'I']=1\n",
    "    sig.loc[sig.index[i]]=np.sqrt(omega +AEX.I.loc[AEX.index[i-1]]*gamma*AEX.R.loc[AEX.index[i-1]]**2 +alpha* AEX.R.loc[AEX.index[i-1]]**2 + sig.loc[sig.index[i-1]]**2 *beta)\n",
    "sig.plot()"
   ]
  },
  {
   "cell_type": "code",
   "execution_count": 36,
   "metadata": {},
   "outputs": [
    {
     "data": {
      "text/plain": [
       "<matplotlib.axes._subplots.AxesSubplot at 0x15afb4d1630>"
      ]
     },
     "execution_count": 36,
     "metadata": {},
     "output_type": "execute_result"
    },
    {
     "data": {
      "image/png": "[encoded data removed]",
      "text/plain": [
       "<Figure size 432x288 with 1 Axes>"
      ]
     },
     "metadata": {
      "needs_background": "light"
     },
     "output_type": "display_data"
    }
   ],
   "source": [
    "#EWMA Forecast\n",
    "\n",
    "#Moving average series\n",
    "labda = 0.94\n",
    "Rsq = (AEX['R']**2).shift(1)\n",
    "Esigma2 = Rsq.ewm(alpha=1-labda).mean()\n",
    "Esigma = np.sqrt(Esigma2)\n",
    "Esigma.plot()"
   ]
  },
  {
   "cell_type": "code",
   "execution_count": 37,
   "metadata": {},
   "outputs": [
    {
     "data": {
      "text/plain": [
       "<matplotlib.legend.Legend at 0x15afb537128>"
      ]
     },
     "execution_count": 37,
     "metadata": {},
     "output_type": "execute_result"
    },
    {
     "data": {
      "image/png": "[encoded data removed]",
      "text/plain": [
       "<Figure size 432x288 with 1 Axes>"
      ]
     },
     "metadata": {
      "needs_background": "light"
     },
     "output_type": "display_data"
    }
   ],
   "source": [
    "plt.plot(Esigma)\n",
    "plt.plot(sig)\n",
    "plt.xlabel('$year$')\n",
    "plt.ylabel('$Conditional Volatility$')\n",
    "plt.legend([\"EWMA\",\"GARCH\"])"
   ]
  },
  {
   "cell_type": "markdown",
   "metadata": {},
   "source": [
    "The plots show a very similar trend. Despite EWMA forecasting is lower or higher at some point than GARCH method. Overall they are the same."
   ]
  },
  {
   "cell_type": "code",
   "execution_count": 38,
   "metadata": {},
   "outputs": [
    {
     "name": "stdout",
     "output_type": "stream",
     "text": [
      "                            OLS Regression Results                            \n",
      "==============================================================================\n",
      "Dep. Variable:                     RV   R-squared:                       0.246\n",
      "Model:                            OLS   Adj. R-squared:                  0.245\n",
      "Method:                 Least Squares   F-statistic:                     425.4\n",
      "Date:                Sun, 24 Feb 2019   Prob (F-statistic):           4.89e-82\n",
      "Time:                        16:00:45   Log-Likelihood:                -1640.9\n",
      "No. Observations:                1307   AIC:                             3286.\n",
      "Df Residuals:                    1305   BIC:                             3296.\n",
      "Df Model:                           1                                         \n",
      "Covariance Type:            nonrobust                                         \n",
      "==============================================================================\n",
      "                 coef    std err          t      P>|t|      [0.025      0.975]\n",
      "------------------------------------------------------------------------------\n",
      "const          0.0245      0.037      0.655      0.513      -0.049       0.098\n",
      "0              0.8486      0.041     20.626      0.000       0.768       0.929\n",
      "==============================================================================\n",
      "Omnibus:                     2519.350   Durbin-Watson:                   1.585\n",
      "Prob(Omnibus):                  0.000   Jarque-Bera (JB):          4429226.567\n",
      "Skew:                          14.267   Prob(JB):                         0.00\n",
      "Kurtosis:                     286.757   Cond. No.                         2.85\n",
      "==============================================================================\n",
      "\n",
      "Warnings:\n",
      "[1] Standard Errors assume that the covariance matrix of the errors is correctly specified.\n"
     ]
    },
    {
     "name": "stderr",
     "output_type": "stream",
     "text": [
      "C:\\Users\\sunju\\Anaconda3\\lib\\site-packages\\numpy\\core\\fromnumeric.py:2223: FutureWarning: Method .ptp is deprecated and will be removed in a future version. Use numpy.ptp instead.\n",
      "  return ptp(axis=axis, out=out, **kwargs)\n"
     ]
    }
   ],
   "source": [
    "#Evaluate 2 series of forecasted variance by running linear regression.\n",
    "\n",
    "\n",
    "#Using data only from the post-sample period January 2013 – February 2018\n",
    "RV=data2['RV']\n",
    "##Regression on garch variance\n",
    "# define X Y\n",
    "x=sig.loc['2013-1-01':'2018-02-09']**2\n",
    "x = sm.add_constant(x)\n",
    "y=RV\n",
    "modelGAR = sm.OLS(y,x)\n",
    "result_GAR = modelGAR.fit()\n",
    "print(result_GAR.summary())"
   ]
  },
  {
   "cell_type": "markdown",
   "metadata": {},
   "source": [
    "From the table we can see that garch variance has a positive impact on RV. One percentage point more in variance forecasted would increase RV by 0.9384 percentage point. However, the coefficient is not significant. "
   ]
  },
  {
   "cell_type": "code",
   "execution_count": 39,
   "metadata": {},
   "outputs": [
    {
     "name": "stdout",
     "output_type": "stream",
     "text": [
      "                            OLS Regression Results                            \n",
      "==============================================================================\n",
      "Dep. Variable:                     RV   R-squared:                       0.198\n",
      "Model:                            OLS   Adj. R-squared:                  0.197\n",
      "Method:                 Least Squares   F-statistic:                     321.8\n",
      "Date:                Sun, 24 Feb 2019   Prob (F-statistic):           1.69e-64\n",
      "Time:                        16:00:48   Log-Likelihood:                -1681.2\n",
      "No. Observations:                1307   AIC:                             3366.\n",
      "Df Residuals:                    1305   BIC:                             3377.\n",
      "Df Model:                           1                                         \n",
      "Covariance Type:            nonrobust                                         \n",
      "==============================================================================\n",
      "                 coef    std err          t      P>|t|      [0.025      0.975]\n",
      "------------------------------------------------------------------------------\n",
      "const          0.0453      0.040      1.121      0.263      -0.034       0.125\n",
      "R              0.9688      0.054     17.940      0.000       0.863       1.075\n",
      "==============================================================================\n",
      "Omnibus:                     2482.679   Durbin-Watson:                   1.477\n",
      "Prob(Omnibus):                  0.000   Jarque-Bera (JB):          4028860.433\n",
      "Skew:                          13.833   Prob(JB):                         0.00\n",
      "Kurtosis:                     273.583   Cond. No.                         3.16\n",
      "==============================================================================\n",
      "\n",
      "Warnings:\n",
      "[1] Standard Errors assume that the covariance matrix of the errors is correctly specified.\n"
     ]
    },
    {
     "name": "stderr",
     "output_type": "stream",
     "text": [
      "C:\\Users\\sunju\\Anaconda3\\lib\\site-packages\\numpy\\core\\fromnumeric.py:2223: FutureWarning: Method .ptp is deprecated and will be removed in a future version. Use numpy.ptp instead.\n",
      "  return ptp(axis=axis, out=out, **kwargs)\n"
     ]
    }
   ],
   "source": [
    "#REGRESS ON EWMA VARIANCE\n",
    "X=Esigma2.loc['2013-1-01':'2018-02-09']\n",
    "X=sm.add_constant(X)\n",
    "modelEWMA = sm.OLS(y,X)\n",
    "result_EWMA= modelEWMA.fit()\n",
    "print(result_EWMA.summary())\n"
   ]
  },
  {
   "cell_type": "markdown",
   "metadata": {},
   "source": [
    "We can also see a positive impact of variance on RV, yet it is not significant. Comparing two regression results, Garch has a slightly higher R-squared, which means the model fits more than EWMA did."
   ]
  },
  {
   "cell_type": "code",
   "execution_count": 40,
   "metadata": {},
   "outputs": [
    {
     "name": "stdout",
     "output_type": "stream",
     "text": [
      "                             Test for Constraints                             \n",
      "==============================================================================\n",
      "                 coef    std err          t      P>|t|      [0.025      0.975]\n",
      "------------------------------------------------------------------------------\n",
      "c0             0.0245      0.037      0.655      0.513      -0.049       0.098\n",
      "c1             0.8486      0.041     20.626      0.000       0.768       0.929\n",
      "==============================================================================\n"
     ]
    }
   ],
   "source": [
    "#Testing hypothesis\n",
    "#b0=0,b1=1 in garch reg\n",
    "r = np.zeros_like(result_GAR.params)\n",
    "r=[[1,0],[0,1]]\n",
    "ttest=result_GAR.t_test(r)\n",
    "print(ttest)"
   ]
  },
  {
   "cell_type": "markdown",
   "metadata": {},
   "source": [
    "In the t test of garch variables, the p values are both out of the confident intervals. So we dont have enough evidence to reject the null hypotheses. Not enough evident to prove that b0 is not equal to 0 and b1 is not equal to 1."
   ]
  },
  {
   "cell_type": "code",
   "execution_count": 22,
   "metadata": {},
   "outputs": [
    {
     "data": {
      "text/plain": [
       "<class 'statsmodels.stats.contrast.ContrastResults'>\n",
       "                             Test for Constraints                             \n",
       "==============================================================================\n",
       "                 coef    std err          t      P>|t|      [0.025      0.975]\n",
       "------------------------------------------------------------------------------\n",
       "c0             0.0453      0.040      1.121      0.263      -0.034       0.125\n",
       "c1             0.9688      0.054     -0.577      0.564       0.863       1.075\n",
       "=============================================================================="
      ]
     },
     "execution_count": 22,
     "metadata": {},
     "output_type": "execute_result"
    }
   ],
   "source": [
    "#b0=0, b1=1 in EMWA reg\n",
    "H='const=0,R=1'\n",
    "result_EWMA.t_test(H)"
   ]
  },
  {
   "cell_type": "markdown",
   "metadata": {},
   "source": [
    "In these two t tests using EWMA variables, null hypotheses are both rejected. so there are enough evidence to say that b0 not equal to 0 and b1 not equal to 1."
   ]
  }
 ],
 "metadata": {
  "kernelspec": {
   "display_name": "Python 3",
   "language": "python",
   "name": "python3"
  },
  "language_info": {
   "codemirror_mode": {
    "name": "ipython",
    "version": 3
   },
   "file_extension": ".py",
   "mimetype": "text/x-python",
   "name": "python",
   "nbconvert_exporter": "python",
   "pygments_lexer": "ipython3",
   "version": "3.7.0"
  }
 },
 "nbformat": 4,
 "nbformat_minor": 2
}
